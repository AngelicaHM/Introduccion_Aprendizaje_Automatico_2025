{
 "cells": [
  {
   "cell_type": "markdown",
   "metadata": {},
   "source": [
    "<img style=\"float: left;;\" src='Figures/alinco.png' /></a>\n",
    "    \n",
    "# <center> <font color= #000047> Actividad 2: Espacios Vectoriales ( Ejercicios )</font>\n",
    "___\n",
    "\n"
   ]
  },
  {
   "cell_type": "markdown",
   "metadata": {},
   "source": [
    "## Espacios vectoriales\n",
    "\n",
    "Un [espacio vectorial](https://es.wikipedia.org/wiki/Espacio_vectorial), $V$, sobre un <a href=\"https://es.wikipedia.org/wiki/Cuerpo_(matem%C3%A1ticas)\">Campo</a>, $F$,  va a ser un [conjunto](http://relopezbriega.github.io/blog/2015/10/11/conjuntos-con-python/) en el que están definidas las operaciones de *<a href=\"https://es.wikipedia.org/wiki/Adici%C3%B3n_(matem%C3%A1ticas)\">adición</a>* y  *multiplicación por <a href=\"http://es.wikipedia.org/wiki/Escalar_(matem%C3%A1tica)\">escalares</a>*, tal que para cualquier par de elementos $x$ e $y$ en $V$, existe un elemento único $x + y$ en $V$, y para cada elemento $\\alpha$ en $F$ y cada elemento $x$ en $V$, exista un único elemento $\\alpha x$ en $V$, de manera que se cumplan las siguientes condiciones:\n",
    "\n",
    "1. Para todo $x, y$ en $V$, $x + y = y + x$ ([conmutatividad](https://es.wikipedia.org/wiki/Conmutatividad) de la adición).\n",
    "\n",
    "2. Para todo $x, y, z$ en $V$, $(x + y) + z = x + (y + z)$. (<a href=\"https://es.wikipedia.org/wiki/Asociatividad_(%C3%A1lgebra)\">asociatividad</a> de la adición).\n",
    "\n",
    "3. Existe un elemento en $V$ llamado $0$ tal que $x + 0 = x$ para todo $x$ en $V$.\n",
    "\n",
    "4. Para cada elemento $x$ en $V$, existe un elemento $y$ en $V$ tal que $x + y = 0$.\n",
    "\n",
    "5. Para cada elemento $x$ en $V$, $1 x = x$.\n",
    "\n",
    "6. Para cada par, $\\alpha, \\beta$ en $F$ y cada elemento $x$ en $V$, $(\\alpha \\beta) x = \\alpha (\\beta x)$.\n",
    "\n",
    "7. Para cada elemento $\\alpha$ en $F$ y cada para de elementos $x, y$ en $V$, $\\alpha(x + y) = \\alpha x + \\alpha y$.\n",
    "\n",
    "8. Para cada par de elementos $\\alpha, \\beta$ en $F$ y cada elemento $x$ en $V$, $(\\alpha +  \\beta)x = \\alpha x + \\beta x$.\n",
    "\n",
    "Los [espacios vectoriales](https://es.wikipedia.org/wiki/Espacio_vectorial) más comunes son $\\mathbb{R}^2$, el cual representa el plano de 2 dimensiones y consiste de todos los pares ordenados de los [números reales](https://es.wikipedia.org/wiki/N%C3%BAmero_real):\n",
    "\n",
    "$$\\mathbb{R}^2 = \\{(x, y): x, y \\in \\mathbb{R}\\}$$\n",
    "\n",
    "y $\\mathbb{R}^3$, que representa el espacio ordinario de 3 dimensiones y consiste en todos los tríos ordenados de los  [números reales](https://es.wikipedia.org/wiki/N%C3%BAmero_real):\n",
    "\n",
    "$$\\mathbb{R}^3 = \\{(x, y, z): x, y, z \\in \\mathbb{R}\\}$$\n",
    "\n",
    "Una de las grandes bellezas del [Álgebra lineal](http://relopezbriega.github.io/tag/algebra.html) es que podemos fácilmente pasar a trabajar sobre espacios de $n$ dimensiones, $\\mathbb{R}^n$!\n",
    "\n",
    "Tampoco tenemos porque quedarnos con solo los [números reales](https://es.wikipedia.org/wiki/N%C3%BAmero_real), ya que la definición que dimos de un [espacio vectorial](https://es.wikipedia.org/wiki/Espacio_vectorial) reside sobre un <a href=\"https://es.wikipedia.org/wiki/Cuerpo_(matem%C3%A1ticas)\">Campo</a>; y los <a href=\"https://es.wikipedia.org/wiki/Cuerpo_(matem%C3%A1ticas)\">campos</a> pueden estar representados por [números complejos](http://relopezbriega.github.io/blog/2015/10/12/numeros-complejos-con-python/). Por tanto también podemos tener [espacios vectoriales](https://es.wikipedia.org/wiki/Espacio_vectorial)  $\\mathbb{C}^2, \\mathbb{C}^3, \\dots, \\mathbb{C}^n$.\n",
    "\n",
    "### Subespacios\n",
    "\n",
    "Normalmente, en el estudio de cualquier estructura algebraica es interesante examinar subconjuntos que tengan la misma estructura que el [conjunto](http://relopezbriega.github.io/blog/2015/10/11/conjuntos-con-python/) que esta siendo considerado. Así, dentro de los [espacios vectoriales](https://es.wikipedia.org/wiki/Espacio_vectorial),  podemos tener [subespacios vectoriales](https://es.wikipedia.org/wiki/Subespacio_vectorial), los cuales son un subconjunto que cumplen con las mismas *propiedades* que el [espacio vectorial](https://es.wikipedia.org/wiki/Espacio_vectorial) que los contiene. De esta forma, $\\mathbb{R}^3$ representa un [subespacio](https://es.wikipedia.org/wiki/Subespacio_vectorial) del [espacio vectorial](https://es.wikipedia.org/wiki/Espacio_vectorial) $\\mathbb{R}^n$.\n",
    "\n"
   ]
  },
  {
   "cell_type": "markdown",
   "metadata": {},
   "source": [
    "## Ejercicios:\n",
    "\n",
    "<div class=\"alert alert-info\"><strong>NOTA:</strong> \n",
    "Pueden adjuntar archivos word, jpg, pdf, etc.., para la solución de cada uno de los ejercicios</div>\n",
    "\n",
    "\n",
    "**1.- Probar si el conjunto de matrices:**\n",
    "\n",
    "$$\\begin{Bmatrix} \\begin{pmatrix}1 & \\alpha\\\\ \\beta & 1 \\end{pmatrix} : \\alpha, \\beta \\in \\mathcal{R} \\end{Bmatrix}$$\n",
    "\n",
    "**es un espacio vectorial con su suma y producto usuales. Si no lo es, enunciar la serie de axiomas que no se satisfacen.**"
   ]
  },
  {
   "cell_type": "code",
   "execution_count": 10,
   "metadata": {},
   "outputs": [],
   "source": [
    "# En el archivo adjunto \"Solución a problemas\" se comprueba uno a uno cada axioma o condición.\n",
    "# Se concluye que el conjunto de matrices no es un espacio vectorial por lo siguiente:\n",
    "# No es cerrado bajo suma.\n",
    "# No es cerrado bajo multiplicación escalar.\n",
    "# No existe un elemento neutro aditivo.\n",
    "# No existe un inverso aditivo.\n",
    "\n",
    "# para efectos de comprobación se usaran las siguientes matrices.  \n",
    "import sympy as sy\n",
    "A = sy.Matrix([[1,2],\n",
    "             [3,1]])\n",
    "\n",
    "B = sy.Matrix([[1,4],\n",
    "             [5,1]])\n",
    "\n",
    "C = sy.Matrix([[1,6],\n",
    "             [7,1]])\n",
    "x=2\n",
    "y= 3"
   ]
  },
  {
   "cell_type": "code",
   "execution_count": 23,
   "metadata": {},
   "outputs": [
    {
     "data": {
      "text/latex": [
       "$\\displaystyle \\left[\\begin{matrix}2 & 6\\\\8 & 2\\end{matrix}\\right]$"
      ],
      "text/plain": [
       "Matrix([\n",
       "[2, 6],\n",
       "[8, 2]])"
      ]
     },
     "execution_count": 23,
     "metadata": {},
     "output_type": "execute_result"
    }
   ],
   "source": [
    "# No es cerrado bajo suma.\n",
    "# Conmutatividad de la adición: x+y=y+x\n",
    "# Aunque la condición se cumpla, la diagonal no son 1.\n",
    "D=A+B\n",
    "E=B+A\n",
    "E\n",
    "\n",
    "\n"
   ]
  },
  {
   "cell_type": "code",
   "execution_count": 33,
   "metadata": {},
   "outputs": [
    {
     "data": {
      "text/latex": [
       "$\\displaystyle \\left[\\begin{matrix}2 & 4\\\\6 & 2\\end{matrix}\\right]$"
      ],
      "text/plain": [
       "Matrix([\n",
       "[2, 4],\n",
       "[6, 2]])"
      ]
     },
     "execution_count": 33,
     "metadata": {},
     "output_type": "execute_result"
    }
   ],
   "source": [
    "# No es cerrado bajo multiplicación escalar: xA = Ax\n",
    "# Aunque la condición se cumpla, la diagonal no son 1.\n",
    "xA = x * A\n",
    "Ax = A * x\n",
    "xA"
   ]
  },
  {
   "cell_type": "code",
   "execution_count": 20,
   "metadata": {},
   "outputs": [
    {
     "data": {
      "text/plain": [
       "[]"
      ]
     },
     "execution_count": 20,
     "metadata": {},
     "output_type": "execute_result"
    }
   ],
   "source": [
    "# No existe un elemento neutro aditivo: A+0=A\n",
    "mat_nul=A.nullspace()\n",
    "mat_nul"
   ]
  },
  {
   "cell_type": "code",
   "execution_count": 30,
   "metadata": {},
   "outputs": [
    {
     "data": {
      "text/latex": [
       "$\\displaystyle \\left[\\begin{matrix}0 & -2\\\\-2 & 0\\end{matrix}\\right]$"
      ],
      "text/plain": [
       "Matrix([\n",
       "[ 0, -2],\n",
       "[-2,  0]])"
      ]
     },
     "execution_count": 30,
     "metadata": {},
     "output_type": "execute_result"
    }
   ],
   "source": [
    "# No existe un inverso aditivo: A+(-A)=0\n",
    "# Ya que la matriz nula no esta dentro del conjunto de matrices por tener diagonal o u no 1.\n",
    "# Utilizaremos otra matriz dentro del conjunto para comprobar.\n",
    "B_neg = (-1) * B\n",
    "inv_ad = A + B_neg\n",
    "inv_ad"
   ]
  },
  {
   "cell_type": "markdown",
   "metadata": {},
   "source": [
    "**2.- Sea $V=\\mathcal{R}^2$. Determinar si el conjunto:**\n",
    "\n",
    "$$ H=\\left\\{(x,y): x^2+y^2 \\leq 1 \\right\\}$$\n",
    "\n",
    "**es un subespacio de V.**"
   ]
  },
  {
   "cell_type": "code",
   "execution_count": null,
   "metadata": {},
   "outputs": [],
   "source": [
    "# En el archivo adjunto \"Solución a problemas\" se comprueba uno a uno cada axioma o condición.\n",
    "# Se concluye que el conjunto H no es un subespacio de V por lo siguiente:\n",
    "# No es cerrado bajo suma.\n",
    "# No es cerrado bajo multiplicación escalar."
   ]
  },
  {
   "cell_type": "code",
   "execution_count": 67,
   "metadata": {},
   "outputs": [
    {
     "data": {
      "text/plain": [
       "array([ True,  True, False, False])"
      ]
     },
     "execution_count": 67,
     "metadata": {},
     "output_type": "execute_result"
    }
   ],
   "source": [
    "# No es cerrado bajo suma porque los resultados de la suma pueden ser mayores a 1.\n",
    "import numpy as np\n",
    "x = np.array([0.0, 0.5, 1.0, 1.5])\n",
    "y = np.array([0.0, 0.5, 1.0, 1.5])\n",
    "H = x**2 + y**2 <= 1\n",
    "H"
   ]
  },
  {
   "cell_type": "code",
   "execution_count": 71,
   "metadata": {},
   "outputs": [
    {
     "data": {
      "text/plain": [
       "array([ True,  True, False, False])"
      ]
     },
     "execution_count": 71,
     "metadata": {},
     "output_type": "execute_result"
    }
   ],
   "source": [
    "# No es cerrado bajo multiplicación escalar porque los valores de la multiplicación puede ser mayores a 1.\n",
    "import numpy as np\n",
    "x = np.array([0.0, 0.5, 1.0, 1.5])\n",
    "y = np.array([0.0, 0.5, 1.0, 1.5])\n",
    "a = np.array([0.0, 0.5, 1.0, 1.5])\n",
    "H = x**2 + y**2 \n",
    "mult = a * H <= 1\n",
    "mult"
   ]
  },
  {
   "cell_type": "markdown",
   "metadata": {},
   "source": [
    "**3.- Sea que $P_n$ defina el conjunto de todos los polinomios de grado menor que $n$, se definen las operaciones de suma y multiplicación por un escalar como:**\n",
    "\n",
    "$$( p  + q )( x ) = p ( x ) + q ( x )$$\n",
    "$$( \\alpha p )( x ) = \\alpha p ( x )$$\n",
    "\n",
    "**para todos los números reales x . Verificar si $P_n$ es un espacio vectorial.**"
   ]
  },
  {
   "cell_type": "code",
   "execution_count": 151,
   "metadata": {},
   "outputs": [
    {
     "data": {
      "text/plain": [
       "(array([1., 2., 3.]), array([ 4., -5.,  0.]))"
      ]
     },
     "execution_count": 151,
     "metadata": {},
     "output_type": "execute_result"
    }
   ],
   "source": [
    "#Vamos a comprobar directamente cada condición usando numpy.\n",
    "# Para que el conjunto sea un espacio vectorial el grado de p y q debe ser menor que Pn \n",
    "# y ser verdadero para cada condicion o axioma.\n",
    "\n",
    "# Con n = 3\n",
    "# p = 1 + 2x + 3x^2\n",
    "# q = 4 - 5x\n",
    "import numpy as np\n",
    "n = 3\n",
    "p = np.array([1.0, 2.0, 3.0])   # n = 2\n",
    "q = np.array([4.0, -5.0, 0.0])  # n = 1\n",
    "p,q"
   ]
  },
  {
   "cell_type": "code",
   "execution_count": 152,
   "metadata": {},
   "outputs": [
    {
     "data": {
      "text/plain": [
       "(array([ True,  True,  True]), (3,))"
      ]
     },
     "execution_count": 152,
     "metadata": {},
     "output_type": "execute_result"
    }
   ],
   "source": [
    "# 1. Comnutatividad.\n",
    "# Si shape <= n la condición y el conjunto se cumplen porque p y q son de grado menor que Pn \n",
    "# y es cerrado bajo suma.\n",
    "pq = p + q\n",
    "p + q == q + p , pq.shape\n"
   ]
  },
  {
   "cell_type": "code",
   "execution_count": 153,
   "metadata": {},
   "outputs": [
    {
     "data": {
      "text/plain": [
       "(array([ True,  True,  True]), (3,))"
      ]
     },
     "execution_count": 153,
     "metadata": {},
     "output_type": "execute_result"
    }
   ],
   "source": [
    "# 2. Asociatividad.\n",
    "# Si shape <= n la condición y el conjunto se cumplen porque p y q son de grado menor que Pn \n",
    "# y es cerrado bajo suma.\n",
    "r = np.array([6.0, -7.0, -8.0])   # n = 3\n",
    "qr = q + r\n",
    "pqr = pq + r\n",
    "pq + r == p + qr , pqr.shape"
   ]
  },
  {
   "cell_type": "code",
   "execution_count": 154,
   "metadata": {},
   "outputs": [
    {
     "data": {
      "text/plain": [
       "(array([ True,  True,  True]), (3,))"
      ]
     },
     "execution_count": 154,
     "metadata": {},
     "output_type": "execute_result"
    }
   ],
   "source": [
    "# 3. Neutro adititvo.\n",
    "# La condición se cumple, p y q son de grado menor que Pn.\n",
    "zr = np.zeros(3)\n",
    "pq + zr == pq , pqr.shape"
   ]
  },
  {
   "cell_type": "code",
   "execution_count": 155,
   "metadata": {},
   "outputs": [
    {
     "data": {
      "text/plain": [
       "(array([ True,  True,  True]), (3,))"
      ]
     },
     "execution_count": 155,
     "metadata": {},
     "output_type": "execute_result"
    }
   ],
   "source": [
    "# 4. Inverso aditivo.\n",
    "# La condición se cumple, p y q son de grado menor que Pn.\n",
    "inv_pq = (-1) * pq\n",
    "pq + inv_pq == 0, pqr.shape"
   ]
  },
  {
   "cell_type": "code",
   "execution_count": 156,
   "metadata": {},
   "outputs": [
    {
     "data": {
      "text/plain": [
       "(array([ True,  True,  True]), (3,))"
      ]
     },
     "execution_count": 156,
     "metadata": {},
     "output_type": "execute_result"
    }
   ],
   "source": [
    "# 5. Identidad.\n",
    "1 * pq == pq,  pqr.shape"
   ]
  },
  {
   "cell_type": "code",
   "execution_count": 157,
   "metadata": {},
   "outputs": [
    {
     "data": {
      "text/plain": [
       "(array([ True,  True,  True]), (3,))"
      ]
     },
     "execution_count": 157,
     "metadata": {},
     "output_type": "execute_result"
    }
   ],
   "source": [
    "# 6. Cierre bajo multiplicación escalar.\n",
    "a = 3\n",
    "ap = a * p\n",
    "mult_pq = p * q\n",
    "apq = a * p * q\n",
    "a * mult_pq == ap * q ,  apq.shape"
   ]
  },
  {
   "cell_type": "code",
   "execution_count": 158,
   "metadata": {},
   "outputs": [
    {
     "data": {
      "text/plain": [
       "(array([ True,  True,  True]), (3,))"
      ]
     },
     "execution_count": 158,
     "metadata": {},
     "output_type": "execute_result"
    }
   ],
   "source": [
    "# 7. Distributiva por un escalar\n",
    "aq= a * q\n",
    "sum_apq = ap + aq\n",
    "a * (p + q) == ap + aq , sum_apq.shape"
   ]
  },
  {
   "cell_type": "code",
   "execution_count": 159,
   "metadata": {},
   "outputs": [
    {
     "data": {
      "text/plain": [
       "(array([ True,  True,  True]), (3,))"
      ]
     },
     "execution_count": 159,
     "metadata": {},
     "output_type": "execute_result"
    }
   ],
   "source": [
    "# 8. Distributiva por un vector\n",
    "b = 6\n",
    "bp= b * p\n",
    "sum_abp= ap + bp\n",
    "(a + b) * p == ap + bp , sum_abp.shape"
   ]
  },
  {
   "cell_type": "code",
   "execution_count": 115,
   "metadata": {},
   "outputs": [],
   "source": [
    "# Conclusión.\n",
    "# Para todas las condiciones se cumple cuando p y q son de grado menor que Pn\n",
    "# Por lo tanto Pn es un espacio vectorial."
   ]
  },
  {
   "cell_type": "markdown",
   "metadata": {},
   "source": [
    "**4.- Considere el conjunto $M_{2x2}$ de las matrices de $(2x2)$ y las operaciones convencionales de suma de matrices y producto de una matriz por un escalar. Verificar que este conjunto cumple con los 10 axiomas para ser un espacio vectorial.**"
   ]
  },
  {
   "cell_type": "code",
   "execution_count": 160,
   "metadata": {},
   "outputs": [],
   "source": [
    "# Vamos a comprobar directamente cada condición usando sympy.\n",
    "# Para que el conjunto sea un espacio vectorial debe mantener su tamaño M(2x2) \n",
    "# y ser verdadero para cada condicion o axioma.\n",
    "\n",
    "# Elegimos 3 matrices de (2 x 2) y dos escalares.\n",
    "import sympy as sp\n",
    "a,b,c,d,e,f,g,h,o,p,q,r, alfa, beta = sp.symbols(\n",
    "    'a b c d e f g h o p q r alfa beta', real=True)\n",
    "A = sy.Matrix(((a,b),\n",
    "               (c,d,)))\n",
    "\n",
    "B = sy.Matrix(((e,f),\n",
    "               (g,h)))\n",
    "\n",
    "C = sy.Matrix(((o,p),\n",
    "               (q,r)))\n",
    "\n"
   ]
  },
  {
   "cell_type": "code",
   "execution_count": 162,
   "metadata": {},
   "outputs": [
    {
     "data": {
      "text/plain": [
       "(True,\n",
       " (2, 2),\n",
       " Matrix([\n",
       " [a + e, b + f],\n",
       " [c + g, d + h]]))"
      ]
     },
     "execution_count": 162,
     "metadata": {},
     "output_type": "execute_result"
    }
   ],
   "source": [
    "# 1. Comnutatividad.\n",
    "sum_ab= A + B\n",
    "A + B == B + A , sum_ab.shape , sum_ab"
   ]
  },
  {
   "cell_type": "code",
   "execution_count": 163,
   "metadata": {},
   "outputs": [
    {
     "data": {
      "text/plain": [
       "(True,\n",
       " (2, 2),\n",
       " Matrix([\n",
       " [a + e + o, b + f + p],\n",
       " [c + g + q, d + h + r]]))"
      ]
     },
     "execution_count": 163,
     "metadata": {},
     "output_type": "execute_result"
    }
   ],
   "source": [
    "# 2. Asociatividad.\n",
    "sum_abc = (A + B) + C\n",
    "(A + B) + C == A + (B + C), sum_abc.shape , sum_abc"
   ]
  },
  {
   "cell_type": "code",
   "execution_count": 164,
   "metadata": {},
   "outputs": [
    {
     "data": {
      "text/plain": [
       "(True,\n",
       " (2, 2),\n",
       " Matrix([\n",
       " [a, b],\n",
       " [c, d]]))"
      ]
     },
     "execution_count": 164,
     "metadata": {},
     "output_type": "execute_result"
    }
   ],
   "source": [
    "# 3. Neutro adititvo.\n",
    "Z = sp.zeros(2, 2) # Matriz nula de 2x2.\n",
    "sum_az = A + Z\n",
    "A + Z == A, sum_az.shape , sum_az"
   ]
  },
  {
   "cell_type": "code",
   "execution_count": 165,
   "metadata": {},
   "outputs": [
    {
     "data": {
      "text/plain": [
       "(True,\n",
       " (2, 2),\n",
       " Matrix([\n",
       " [0, 0],\n",
       " [0, 0]]))"
      ]
     },
     "execution_count": 165,
     "metadata": {},
     "output_type": "execute_result"
    }
   ],
   "source": [
    "# 4. Inverso aditivo.\n",
    "neg_a = (-1) * A\n",
    "invad_a = A + neg_a\n",
    "A + neg_a == sp.zeros(2, 2), invad_a.shape , invad_a   "
   ]
  },
  {
   "cell_type": "code",
   "execution_count": 166,
   "metadata": {},
   "outputs": [
    {
     "data": {
      "text/plain": [
       "(True,\n",
       " (2, 2),\n",
       " Matrix([\n",
       " [a, b],\n",
       " [c, d]]))"
      ]
     },
     "execution_count": 166,
     "metadata": {},
     "output_type": "execute_result"
    }
   ],
   "source": [
    "# 5. Identidad.\n",
    "id_a= 1 * A\n",
    "1 * A == A, id_a.shape, id_a"
   ]
  },
  {
   "cell_type": "code",
   "execution_count": 173,
   "metadata": {},
   "outputs": [
    {
     "data": {
      "text/plain": [
       "(True,\n",
       " (2, 2),\n",
       " Matrix([\n",
       " [a*alfa*beta, alfa*b*beta],\n",
       " [alfa*beta*c, alfa*beta*d]]))"
      ]
     },
     "execution_count": 173,
     "metadata": {},
     "output_type": "execute_result"
    }
   ],
   "source": [
    "# 6. Cierre bajo multiplicación escalar.\n",
    "abA= alfa * beta * A\n",
    "(alfa * beta) * A == alfa * (beta * A), abA.shape, abA\n"
   ]
  },
  {
   "cell_type": "code",
   "execution_count": 178,
   "metadata": {},
   "outputs": [
    {
     "data": {
      "text/plain": [
       "(True,\n",
       " (2, 2),\n",
       " Matrix([\n",
       " [a*alfa + alfa*e, alfa*b + alfa*f],\n",
       " [alfa*c + alfa*g, alfa*d + alfa*h]]))"
      ]
     },
     "execution_count": 178,
     "metadata": {},
     "output_type": "execute_result"
    }
   ],
   "source": [
    "# 7. Distributiva por un escalar\n",
    "aAB= (alfa * A) + ( alfa * B)\n",
    "left  = alfa*(A + B)\n",
    "right = alfa*A + alfa*B\n",
    "left.equals(right), aAB.shape , aAB"
   ]
  },
  {
   "cell_type": "code",
   "execution_count": 179,
   "metadata": {},
   "outputs": [
    {
     "data": {
      "text/plain": [
       "(True,\n",
       " (2, 2),\n",
       " Matrix([\n",
       " [a*alfa + a*beta, alfa*b + b*beta],\n",
       " [alfa*c + beta*c, alfa*d + beta*d]]))"
      ]
     },
     "execution_count": 179,
     "metadata": {},
     "output_type": "execute_result"
    }
   ],
   "source": [
    "# 8. Distributiva por un vector\n",
    "abA= alfa*A + beta*A\n",
    "left  = (alfa + beta) * A\n",
    "right = alfa*A + beta*A\n",
    "left.equals(right), abA.shape , abA"
   ]
  },
  {
   "cell_type": "code",
   "execution_count": null,
   "metadata": {},
   "outputs": [],
   "source": [
    "#Conclusión\n",
    "# Todas las condiciones de cumplen conservando matrices de 2x2\n",
    "# por lo tanto el conjunto M2x2 es un espacio vectorial."
   ]
  }
 ],
 "metadata": {
  "kernelspec": {
   "display_name": "Python [conda env:base] *",
   "language": "python",
   "name": "conda-base-py"
  },
  "language_info": {
   "codemirror_mode": {
    "name": "ipython",
    "version": 3
   },
   "file_extension": ".py",
   "mimetype": "text/x-python",
   "name": "python",
   "nbconvert_exporter": "python",
   "pygments_lexer": "ipython3",
   "version": "3.13.5"
  }
 },
 "nbformat": 4,
 "nbformat_minor": 4
}
